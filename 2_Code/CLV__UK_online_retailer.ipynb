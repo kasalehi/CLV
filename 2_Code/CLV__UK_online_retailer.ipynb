{
  "nbformat": 4,
  "nbformat_minor": 0,
  "metadata": {
    "colab": {
      "name": "CLV__UK_online_retailer.ipynb",
      "provenance": [],
      "collapsed_sections": [],
      "authorship_tag": "ABX9TyPW/SLQ4+N4oCBRoS4P2WZc",
      "include_colab_link": true
    },
    "kernelspec": {
      "name": "python3",
      "display_name": "Python 3"
    }
  },
  "cells": [
    {
      "cell_type": "markdown",
      "metadata": {
        "id": "view-in-github",
        "colab_type": "text"
      },
      "source": [
        "<a href=\"https://colab.research.google.com/github/rtheman/CLV/blob/master/2_Code/CLV__UK_online_retailer.ipynb\" target=\"_parent\"><img src=\"https://colab.research.google.com/assets/colab-badge.svg\" alt=\"Open In Colab\"/></a>"
      ]
    },
    {
      "cell_type": "markdown",
      "metadata": {
        "id": "HNHKlscViyAf",
        "colab_type": "text"
      },
      "source": [
        "**Data**: https://www.kaggle.com/roshansharma/online-retail?select=online+retail.csv\n",
        "\n",
        "NOTE:\n",
        "1. `InvoiceNo` is alphanumeric\n",
        "1. `InvoiceDate` in formatted as dd.mm/yy h.mm\n",
        "\n",
        "**Reference**\n",
        "- Peter Fader [video](https://www.youtube.com/watch?v=guj2gVEEx4s)\n",
        "\n",
        "**Examples**\n",
        "- Collin Ching's [Medium blog](https://towardsdatascience.com/modeling-customer-churn-for-an-e-commerce-business-with-python-874315e688bf)\n",
        "- Luca De Angelis [Medium blog](https://towardsdatascience.com/predicting-customer-lifetime-value-with-buy-til-you-die-probabilistic-models-in-python-f5cac78758d9)\n",
        "- Gamma-Gamma [example01](https://books.google.com/books?id=_xamDwAAQBAJ&pg=PA99&lpg=PA99&dq=GammaGammaFitter&source=bl&ots=s-SdLrKpZP&sig=ACfU3U2ChOfkDkgzfGdu_6PhAizXg-T80Q&hl=en&sa=X&ved=2ahUKEwje3IaBud_pAhX7HzQIHaqpCUgQ6AEwBXoECAoQAQ#v=onepage&q=GammaGammaFitter&f=false)\n",
        "- Gamma-Gamma [example02](https://www.mikulskibartosz.name/predicting-customer-lifetime-value-using-the-pareto-nbd-model-and-gamma-gamma-model/) by Bartosz Mikulski"
      ]
    },
    {
      "cell_type": "markdown",
      "metadata": {
        "id": "epKtSqx12_8C",
        "colab_type": "text"
      },
      "source": [
        "# 1.) Connect to Google BigQuery\n",
        "\n",
        "See [BigQuery documentation](https://cloud.google.com/bigquery/docs) and [library reference documentation](https://googleapis.dev/python/bigquery/latest/index.html#).\n",
        "\n",
        "Example. https://colab.research.google.com/notebooks/bigquery.ipynb#scrollTo=ONI1Xo0-KtAD"
      ]
    },
    {
      "cell_type": "markdown",
      "metadata": {
        "id": "4fehVKrC3FjX",
        "colab_type": "text"
      },
      "source": [
        "## Set Credentials"
      ]
    },
    {
      "cell_type": "code",
      "metadata": {
        "id": "lhDSW-nMiqn2",
        "colab_type": "code",
        "colab": {
          "base_uri": "https://localhost:8080/",
          "height": 34
        },
        "outputId": "2b357a85-719f-49ab-aaf0-7ec0554a4dd5"
      },
      "source": [
        "from google.colab import auth\n",
        "auth.authenticate_user()\n",
        "print('Authenticated')"
      ],
      "execution_count": 1,
      "outputs": [
        {
          "output_type": "stream",
          "text": [
            "Authenticated\n"
          ],
          "name": "stdout"
        }
      ]
    },
    {
      "cell_type": "markdown",
      "metadata": {
        "id": "aXfTiUJR3V07",
        "colab_type": "text"
      },
      "source": [
        "## Enable data table display\n",
        "Colab includes the google.colab.data_table package that can be used to display large pandas dataframes as an interactive data table. It can be enabled with:"
      ]
    },
    {
      "cell_type": "code",
      "metadata": {
        "id": "Nw3uF7UR3IE-",
        "colab_type": "code",
        "colab": {}
      },
      "source": [
        "%load_ext google.colab.data_table"
      ],
      "execution_count": 0,
      "outputs": []
    },
    {
      "cell_type": "markdown",
      "metadata": {
        "id": "BGdEaFpv3iB-",
        "colab_type": "text"
      },
      "source": [
        "To disable, simply\n",
        "`%unload_ext google.colab.data_table`"
      ]
    },
    {
      "cell_type": "markdown",
      "metadata": {
        "id": "n_q4ivqx47pC",
        "colab_type": "text"
      },
      "source": [
        "## Set BigQuery's Project ID"
      ]
    },
    {
      "cell_type": "code",
      "metadata": {
        "id": "OVvVOVDt3nJ3",
        "colab_type": "code",
        "colab": {}
      },
      "source": [
        "# Declare the Cloud project ID which will be used throughout this notebook\n",
        "project_id = 'rleung-sandbox'"
      ],
      "execution_count": 0,
      "outputs": []
    },
    {
      "cell_type": "markdown",
      "metadata": {
        "id": "9KNlCW2Y5Az2",
        "colab_type": "text"
      },
      "source": [
        "# 2.) Query"
      ]
    },
    {
      "cell_type": "markdown",
      "metadata": {
        "id": "VnYBUquz-H8a",
        "colab_type": "text"
      },
      "source": [
        "## Initiaize BigQuery parameters"
      ]
    },
    {
      "cell_type": "code",
      "metadata": {
        "id": "JfRNNZRd-EvY",
        "colab_type": "code",
        "colab": {}
      },
      "source": [
        "from google.cloud import bigquery\n",
        "\n",
        "client = bigquery.Client(project=project_id)"
      ],
      "execution_count": 0,
      "outputs": []
    },
    {
      "cell_type": "markdown",
      "metadata": {
        "id": "XcRQtAu5-NIi",
        "colab_type": "text"
      },
      "source": [
        "## Count number of records in table"
      ]
    },
    {
      "cell_type": "code",
      "metadata": {
        "id": "_rTSLSp241wX",
        "colab_type": "code",
        "colab": {
          "base_uri": "https://localhost:8080/",
          "height": 34
        },
        "outputId": "06785519-8551-4c33-ceae-237ee677877b"
      },
      "source": [
        "row_count = client.query('''\n",
        "  SELECT \n",
        "    COUNT(*) as total\n",
        "  FROM `rleung-sandbox.CLV.online_retailer_UK`''').to_dataframe().total[0]\n",
        "\n",
        "print('Full dataset has %d rows' % row_count)"
      ],
      "execution_count": 4,
      "outputs": [
        {
          "output_type": "stream",
          "text": [
            "Full dataset has 532619 rows\n"
          ],
          "name": "stdout"
        }
      ]
    },
    {
      "cell_type": "markdown",
      "metadata": {
        "id": "u2_7fl5g-RfA",
        "colab_type": "text"
      },
      "source": [
        "Count number of Customers"
      ]
    },
    {
      "cell_type": "code",
      "metadata": {
        "id": "ZDcTa_dk-U1b",
        "colab_type": "code",
        "colab": {
          "base_uri": "https://localhost:8080/",
          "height": 34
        },
        "outputId": "8e679f64-7c79-493d-a1af-98376bba4291"
      },
      "source": [
        "cust_count = client.query('''\n",
        "                          SELECT\n",
        "                            COUNT(DISTINCT CustomerID) as total\n",
        "                          FROM `rleung-sandbox.CLV.online_retailer_UK`\n",
        "                          ''').to_dataframe().total[0]\n",
        "\n",
        "print('There are %d customers' % cust_count)"
      ],
      "execution_count": 16,
      "outputs": [
        {
          "output_type": "stream",
          "text": [
            "There are 4339 customers\n"
          ],
          "name": "stdout"
        }
      ]
    },
    {
      "cell_type": "markdown",
      "metadata": {
        "id": "DGYkrS5q6IdB",
        "colab_type": "text"
      },
      "source": [
        "## Persist as dataframe"
      ]
    },
    {
      "cell_type": "code",
      "metadata": {
        "id": "0sOE10JO5Qz2",
        "colab_type": "code",
        "colab": {}
      },
      "source": [
        "df = client.query('''\n",
        "  SELECT\n",
        "    *\n",
        "  FROM\n",
        "    `rleung-sandbox.CLV.online_retailer_UK`\n",
        "#   LIMIT 100\n",
        "''').to_dataframe()"
      ],
      "execution_count": 0,
      "outputs": []
    },
    {
      "cell_type": "code",
      "metadata": {
        "id": "_pezv_u-6UkD",
        "colab_type": "code",
        "colab": {
          "base_uri": "https://localhost:8080/",
          "height": 186
        },
        "outputId": "231e3c57-747a-460e-a575-6b32967a2f0f"
      },
      "source": [
        "df.head()"
      ],
      "execution_count": 6,
      "outputs": [
        {
          "output_type": "execute_result",
          "data": {
            "application/vnd.google.colaboratory.module+javascript": "\n      import \"https://ssl.gstatic.com/colaboratory/data_table/a6224c040fa35dcf/data_table.js\";\n\n      window.createDataTable({\n        data: [[{\n            'v': 0,\n            'f': \"0\",\n        },\n\"12646\",\n\"572215\",\n\"23293\",\n\"SET OF 12 FAIRY CAKE BAKING CASES\",\n\"2011-10-21\",\n{\n            'v': 32,\n            'f': \"32\",\n        },\n{\n            'v': 0.83,\n            'f': \"0.83\",\n        },\n\"USA\"],\n [{\n            'v': 1,\n            'f': \"1\",\n        },\n\"12646\",\n\"572215\",\n\"23296\",\n\"SET OF 6 TEA TIME BAKING CASES\",\n\"2011-10-21\",\n{\n            'v': 32,\n            'f': \"32\",\n        },\n{\n            'v': 1.25,\n            'f': \"1.25\",\n        },\n\"USA\"],\n [{\n            'v': 2,\n            'f': \"2\",\n        },\n\"12646\",\n\"580553\",\n\"23366\",\n\"SET 12 COLOURING PENCILS DOILY\",\n\"2011-12-05\",\n{\n            'v': 72,\n            'f': \"72\",\n        },\n{\n            'v': 0.65,\n            'f': \"0.65\",\n        },\n\"USA\"],\n [{\n            'v': 3,\n            'f': \"3\",\n        },\n\"12646\",\n\"580553\",\n\"20975\",\n\"12 PENCILS SMALL TUBE RED RETROSPOT\",\n\"2011-12-05\",\n{\n            'v': 72,\n            'f': \"72\",\n        },\n{\n            'v': 0.65,\n            'f': \"0.65\",\n        },\n\"USA\"],\n [{\n            'v': 4,\n            'f': \"4\",\n        },\n\"14911\",\n\"536540\",\n\"22355\",\n\"CHARLOTTE BAG SUKI DESIGN\",\n\"2010-12-01\",\n{\n            'v': 50,\n            'f': \"50\",\n        },\n{\n            'v': 0.85,\n            'f': \"0.85\",\n        },\n\"EIRE\"]],\n        columns: [[\"number\", \"index\"], [\"string\", \"CustomerID\"], [\"string\", \"InvoiceNo\"], [\"string\", \"StockCode\"], [\"string\", \"Description\"], [\"string\", \"InvoiceDate\"], [\"number\", \"Quantity\"], [\"number\", \"UnitPrice\"], [\"string\", \"Country\"]],\n        columnOptions: [{\"width\": \"1px\", \"className\": \"index_column\"}],\n        rowsPerPage: 25,\n        helpUrl: \"https://colab.research.google.com/notebooks/data_table.ipynb\",\n        suppressOutputScrolling: true,\n        minimumWidth: undefined,\n      });\n    ",
            "text/html": [
              "<div>\n",
              "<style scoped>\n",
              "    .dataframe tbody tr th:only-of-type {\n",
              "        vertical-align: middle;\n",
              "    }\n",
              "\n",
              "    .dataframe tbody tr th {\n",
              "        vertical-align: top;\n",
              "    }\n",
              "\n",
              "    .dataframe thead th {\n",
              "        text-align: right;\n",
              "    }\n",
              "</style>\n",
              "<table border=\"1\" class=\"dataframe\">\n",
              "  <thead>\n",
              "    <tr style=\"text-align: right;\">\n",
              "      <th></th>\n",
              "      <th>CustomerID</th>\n",
              "      <th>InvoiceNo</th>\n",
              "      <th>StockCode</th>\n",
              "      <th>Description</th>\n",
              "      <th>InvoiceDate</th>\n",
              "      <th>Quantity</th>\n",
              "      <th>UnitPrice</th>\n",
              "      <th>Country</th>\n",
              "    </tr>\n",
              "  </thead>\n",
              "  <tbody>\n",
              "    <tr>\n",
              "      <th>0</th>\n",
              "      <td>12646</td>\n",
              "      <td>572215</td>\n",
              "      <td>23293</td>\n",
              "      <td>SET OF 12 FAIRY CAKE BAKING CASES</td>\n",
              "      <td>2011-10-21</td>\n",
              "      <td>32</td>\n",
              "      <td>0.83</td>\n",
              "      <td>USA</td>\n",
              "    </tr>\n",
              "    <tr>\n",
              "      <th>1</th>\n",
              "      <td>12646</td>\n",
              "      <td>572215</td>\n",
              "      <td>23296</td>\n",
              "      <td>SET OF 6 TEA TIME BAKING CASES</td>\n",
              "      <td>2011-10-21</td>\n",
              "      <td>32</td>\n",
              "      <td>1.25</td>\n",
              "      <td>USA</td>\n",
              "    </tr>\n",
              "    <tr>\n",
              "      <th>2</th>\n",
              "      <td>12646</td>\n",
              "      <td>580553</td>\n",
              "      <td>23366</td>\n",
              "      <td>SET 12 COLOURING PENCILS DOILY</td>\n",
              "      <td>2011-12-05</td>\n",
              "      <td>72</td>\n",
              "      <td>0.65</td>\n",
              "      <td>USA</td>\n",
              "    </tr>\n",
              "    <tr>\n",
              "      <th>3</th>\n",
              "      <td>12646</td>\n",
              "      <td>580553</td>\n",
              "      <td>20975</td>\n",
              "      <td>12 PENCILS SMALL TUBE RED RETROSPOT</td>\n",
              "      <td>2011-12-05</td>\n",
              "      <td>72</td>\n",
              "      <td>0.65</td>\n",
              "      <td>USA</td>\n",
              "    </tr>\n",
              "    <tr>\n",
              "      <th>4</th>\n",
              "      <td>14911</td>\n",
              "      <td>536540</td>\n",
              "      <td>22355</td>\n",
              "      <td>CHARLOTTE BAG SUKI DESIGN</td>\n",
              "      <td>2010-12-01</td>\n",
              "      <td>50</td>\n",
              "      <td>0.85</td>\n",
              "      <td>EIRE</td>\n",
              "    </tr>\n",
              "  </tbody>\n",
              "</table>\n",
              "</div>"
            ],
            "text/plain": [
              "  CustomerID InvoiceNo StockCode  ... Quantity UnitPrice  Country\n",
              "0      12646    572215     23293  ...       32      0.83      USA\n",
              "1      12646    572215     23296  ...       32      1.25      USA\n",
              "2      12646    580553     23366  ...       72      0.65      USA\n",
              "3      12646    580553     20975  ...       72      0.65      USA\n",
              "4      14911    536540     22355  ...       50      0.85     EIRE\n",
              "\n",
              "[5 rows x 8 columns]"
            ]
          },
          "metadata": {
            "tags": []
          },
          "execution_count": 6
        }
      ]
    },
    {
      "cell_type": "code",
      "metadata": {
        "id": "8C27yBb16QqP",
        "colab_type": "code",
        "colab": {
          "base_uri": "https://localhost:8080/",
          "height": 294
        },
        "outputId": "793f806d-6901-42d9-ce28-a264889a00f6"
      },
      "source": [
        "# Revert to displaying in Pandas format\n",
        "%unload_ext google.colab.data_table\n",
        "\n",
        "df.describe()"
      ],
      "execution_count": 7,
      "outputs": [
        {
          "output_type": "execute_result",
          "data": {
            "text/html": [
              "<div>\n",
              "<style scoped>\n",
              "    .dataframe tbody tr th:only-of-type {\n",
              "        vertical-align: middle;\n",
              "    }\n",
              "\n",
              "    .dataframe tbody tr th {\n",
              "        vertical-align: top;\n",
              "    }\n",
              "\n",
              "    .dataframe thead th {\n",
              "        text-align: right;\n",
              "    }\n",
              "</style>\n",
              "<table border=\"1\" class=\"dataframe\">\n",
              "  <thead>\n",
              "    <tr style=\"text-align: right;\">\n",
              "      <th></th>\n",
              "      <th>Quantity</th>\n",
              "      <th>UnitPrice</th>\n",
              "    </tr>\n",
              "  </thead>\n",
              "  <tbody>\n",
              "    <tr>\n",
              "      <th>count</th>\n",
              "      <td>532619.000000</td>\n",
              "      <td>532619.000000</td>\n",
              "    </tr>\n",
              "    <tr>\n",
              "      <th>mean</th>\n",
              "      <td>10.240010</td>\n",
              "      <td>3.847635</td>\n",
              "    </tr>\n",
              "    <tr>\n",
              "      <th>std</th>\n",
              "      <td>159.573967</td>\n",
              "      <td>41.758101</td>\n",
              "    </tr>\n",
              "    <tr>\n",
              "      <th>min</th>\n",
              "      <td>-9600.000000</td>\n",
              "      <td>-11062.060000</td>\n",
              "    </tr>\n",
              "    <tr>\n",
              "      <th>25%</th>\n",
              "      <td>1.000000</td>\n",
              "      <td>1.250000</td>\n",
              "    </tr>\n",
              "    <tr>\n",
              "      <th>50%</th>\n",
              "      <td>3.000000</td>\n",
              "      <td>2.080000</td>\n",
              "    </tr>\n",
              "    <tr>\n",
              "      <th>75%</th>\n",
              "      <td>10.000000</td>\n",
              "      <td>4.130000</td>\n",
              "    </tr>\n",
              "    <tr>\n",
              "      <th>max</th>\n",
              "      <td>80995.000000</td>\n",
              "      <td>13541.330000</td>\n",
              "    </tr>\n",
              "  </tbody>\n",
              "</table>\n",
              "</div>"
            ],
            "text/plain": [
              "            Quantity      UnitPrice\n",
              "count  532619.000000  532619.000000\n",
              "mean       10.240010       3.847635\n",
              "std       159.573967      41.758101\n",
              "min     -9600.000000  -11062.060000\n",
              "25%         1.000000       1.250000\n",
              "50%         3.000000       2.080000\n",
              "75%        10.000000       4.130000\n",
              "max     80995.000000   13541.330000"
            ]
          },
          "metadata": {
            "tags": []
          },
          "execution_count": 7
        }
      ]
    },
    {
      "cell_type": "markdown",
      "metadata": {
        "id": "-0y8b6Uu8JJf",
        "colab_type": "text"
      },
      "source": [
        "# 3.) Transform Data as RFM"
      ]
    },
    {
      "cell_type": "code",
      "metadata": {
        "id": "iTe8rGOH6dxd",
        "colab_type": "code",
        "colab": {
          "base_uri": "https://localhost:8080/",
          "height": 210
        },
        "outputId": "3807e4d8-cb80-4ad0-f913-00298310bf90"
      },
      "source": [
        "pip install lifetimes"
      ],
      "execution_count": 8,
      "outputs": [
        {
          "output_type": "stream",
          "text": [
            "Requirement already satisfied: lifetimes in /usr/local/lib/python3.6/dist-packages (0.11.1)\n",
            "Requirement already satisfied: autograd>=1.2.0 in /usr/local/lib/python3.6/dist-packages (from lifetimes) (1.3)\n",
            "Requirement already satisfied: scipy>=1.0.0 in /usr/local/lib/python3.6/dist-packages (from lifetimes) (1.4.1)\n",
            "Requirement already satisfied: dill>=0.2.6 in /usr/local/lib/python3.6/dist-packages (from lifetimes) (0.3.1.1)\n",
            "Requirement already satisfied: pandas>=0.24.0 in /usr/local/lib/python3.6/dist-packages (from lifetimes) (1.0.3)\n",
            "Requirement already satisfied: numpy>=1.10.0 in /usr/local/lib/python3.6/dist-packages (from lifetimes) (1.18.4)\n",
            "Requirement already satisfied: future>=0.15.2 in /usr/local/lib/python3.6/dist-packages (from autograd>=1.2.0->lifetimes) (0.16.0)\n",
            "Requirement already satisfied: python-dateutil>=2.6.1 in /usr/local/lib/python3.6/dist-packages (from pandas>=0.24.0->lifetimes) (2.8.1)\n",
            "Requirement already satisfied: pytz>=2017.2 in /usr/local/lib/python3.6/dist-packages (from pandas>=0.24.0->lifetimes) (2018.9)\n",
            "Requirement already satisfied: six>=1.5 in /usr/local/lib/python3.6/dist-packages (from python-dateutil>=2.6.1->pandas>=0.24.0->lifetimes) (1.12.0)\n"
          ],
          "name": "stdout"
        }
      ]
    },
    {
      "cell_type": "code",
      "metadata": {
        "id": "l7nXYQPy8TC7",
        "colab_type": "code",
        "colab": {
          "base_uri": "https://localhost:8080/",
          "height": 233
        },
        "outputId": "4dba2b19-1529-430c-f4be-35dc2bf41529"
      },
      "source": [
        "from lifetimes.utils import summary_data_from_transaction_data\n",
        "\n",
        "xaction_RFM = summary_data_from_transaction_data(\n",
        "    df,\n",
        "    'CustomerID', \n",
        "    'InvoiceDate', \n",
        "    observation_period_end='2011-12-10'\n",
        ")\n",
        "\n",
        "xaction_RFM.head()"
      ],
      "execution_count": 12,
      "outputs": [
        {
          "output_type": "execute_result",
          "data": {
            "text/html": [
              "<div>\n",
              "<style scoped>\n",
              "    .dataframe tbody tr th:only-of-type {\n",
              "        vertical-align: middle;\n",
              "    }\n",
              "\n",
              "    .dataframe tbody tr th {\n",
              "        vertical-align: top;\n",
              "    }\n",
              "\n",
              "    .dataframe thead th {\n",
              "        text-align: right;\n",
              "    }\n",
              "</style>\n",
              "<table border=\"1\" class=\"dataframe\">\n",
              "  <thead>\n",
              "    <tr style=\"text-align: right;\">\n",
              "      <th></th>\n",
              "      <th>frequency</th>\n",
              "      <th>recency</th>\n",
              "      <th>T</th>\n",
              "    </tr>\n",
              "    <tr>\n",
              "      <th>CustomerID</th>\n",
              "      <th></th>\n",
              "      <th></th>\n",
              "      <th></th>\n",
              "    </tr>\n",
              "  </thead>\n",
              "  <tbody>\n",
              "    <tr>\n",
              "      <th>12346</th>\n",
              "      <td>0.0</td>\n",
              "      <td>0.0</td>\n",
              "      <td>326.0</td>\n",
              "    </tr>\n",
              "    <tr>\n",
              "      <th>12347</th>\n",
              "      <td>6.0</td>\n",
              "      <td>365.0</td>\n",
              "      <td>368.0</td>\n",
              "    </tr>\n",
              "    <tr>\n",
              "      <th>12348</th>\n",
              "      <td>3.0</td>\n",
              "      <td>283.0</td>\n",
              "      <td>359.0</td>\n",
              "    </tr>\n",
              "    <tr>\n",
              "      <th>12349</th>\n",
              "      <td>0.0</td>\n",
              "      <td>0.0</td>\n",
              "      <td>19.0</td>\n",
              "    </tr>\n",
              "    <tr>\n",
              "      <th>12350</th>\n",
              "      <td>0.0</td>\n",
              "      <td>0.0</td>\n",
              "      <td>311.0</td>\n",
              "    </tr>\n",
              "  </tbody>\n",
              "</table>\n",
              "</div>"
            ],
            "text/plain": [
              "            frequency  recency      T\n",
              "CustomerID                           \n",
              "12346             0.0      0.0  326.0\n",
              "12347             6.0    365.0  368.0\n",
              "12348             3.0    283.0  359.0\n",
              "12349             0.0      0.0   19.0\n",
              "12350             0.0      0.0  311.0"
            ]
          },
          "metadata": {
            "tags": []
          },
          "execution_count": 12
        }
      ]
    },
    {
      "cell_type": "code",
      "metadata": {
        "id": "H4pi58Wr9jt4",
        "colab_type": "code",
        "colab": {
          "base_uri": "https://localhost:8080/",
          "height": 294
        },
        "outputId": "d89fab2a-1895-48b4-abfa-c6d06db27905"
      },
      "source": [
        "xaction_RFM.describe()"
      ],
      "execution_count": 13,
      "outputs": [
        {
          "output_type": "execute_result",
          "data": {
            "text/html": [
              "<div>\n",
              "<style scoped>\n",
              "    .dataframe tbody tr th:only-of-type {\n",
              "        vertical-align: middle;\n",
              "    }\n",
              "\n",
              "    .dataframe tbody tr th {\n",
              "        vertical-align: top;\n",
              "    }\n",
              "\n",
              "    .dataframe thead th {\n",
              "        text-align: right;\n",
              "    }\n",
              "</style>\n",
              "<table border=\"1\" class=\"dataframe\">\n",
              "  <thead>\n",
              "    <tr style=\"text-align: right;\">\n",
              "      <th></th>\n",
              "      <th>frequency</th>\n",
              "      <th>recency</th>\n",
              "      <th>T</th>\n",
              "    </tr>\n",
              "  </thead>\n",
              "  <tbody>\n",
              "    <tr>\n",
              "      <th>count</th>\n",
              "      <td>4339.000000</td>\n",
              "      <td>4339.000000</td>\n",
              "      <td>4339.000000</td>\n",
              "    </tr>\n",
              "    <tr>\n",
              "      <th>mean</th>\n",
              "      <td>2.864024</td>\n",
              "      <td>130.741415</td>\n",
              "      <td>223.782899</td>\n",
              "    </tr>\n",
              "    <tr>\n",
              "      <th>std</th>\n",
              "      <td>5.952745</td>\n",
              "      <td>132.210176</td>\n",
              "      <td>117.883623</td>\n",
              "    </tr>\n",
              "    <tr>\n",
              "      <th>min</th>\n",
              "      <td>0.000000</td>\n",
              "      <td>0.000000</td>\n",
              "      <td>1.000000</td>\n",
              "    </tr>\n",
              "    <tr>\n",
              "      <th>25%</th>\n",
              "      <td>0.000000</td>\n",
              "      <td>0.000000</td>\n",
              "      <td>113.000000</td>\n",
              "    </tr>\n",
              "    <tr>\n",
              "      <th>50%</th>\n",
              "      <td>1.000000</td>\n",
              "      <td>93.000000</td>\n",
              "      <td>249.000000</td>\n",
              "    </tr>\n",
              "    <tr>\n",
              "      <th>75%</th>\n",
              "      <td>3.000000</td>\n",
              "      <td>252.000000</td>\n",
              "      <td>327.000000</td>\n",
              "    </tr>\n",
              "    <tr>\n",
              "      <th>max</th>\n",
              "      <td>131.000000</td>\n",
              "      <td>373.000000</td>\n",
              "      <td>374.000000</td>\n",
              "    </tr>\n",
              "  </tbody>\n",
              "</table>\n",
              "</div>"
            ],
            "text/plain": [
              "         frequency      recency            T\n",
              "count  4339.000000  4339.000000  4339.000000\n",
              "mean      2.864024   130.741415   223.782899\n",
              "std       5.952745   132.210176   117.883623\n",
              "min       0.000000     0.000000     1.000000\n",
              "25%       0.000000     0.000000   113.000000\n",
              "50%       1.000000    93.000000   249.000000\n",
              "75%       3.000000   252.000000   327.000000\n",
              "max     131.000000   373.000000   374.000000"
            ]
          },
          "metadata": {
            "tags": []
          },
          "execution_count": 13
        }
      ]
    },
    {
      "cell_type": "markdown",
      "metadata": {
        "id": "J8xU7aadFI5f",
        "colab_type": "text"
      },
      "source": [
        "## Customers Distribution by Frequency\n",
        "\n",
        "This illustrates how often customer buys stuff from us.\n",
        "\n",
        "TO DO"
      ]
    },
    {
      "cell_type": "markdown",
      "metadata": {
        "id": "3ZVjptPq_qcG",
        "colab_type": "text"
      },
      "source": [
        "# 4.) Modeling - BG/NBD model"
      ]
    },
    {
      "cell_type": "markdown",
      "metadata": {
        "id": "wR1H1m_DAJYz",
        "colab_type": "text"
      },
      "source": [
        "## Fitting a model"
      ]
    },
    {
      "cell_type": "code",
      "metadata": {
        "id": "GbgDzUIn9sH9",
        "colab_type": "code",
        "colab": {
          "base_uri": "https://localhost:8080/",
          "height": 34
        },
        "outputId": "3bdebad3-2c3c-4d6c-b522-478929206a8e"
      },
      "source": [
        "from lifetimes import BetaGeoFitter\n",
        "\n",
        "bgf = BetaGeoFitter(penalizer_coef = 0.0)\n",
        "bgf.fit(xaction_RFM['frequency'], xaction_RFM['recency'], xaction_RFM['T'])"
      ],
      "execution_count": 17,
      "outputs": [
        {
          "output_type": "execute_result",
          "data": {
            "text/plain": [
              "<lifetimes.BetaGeoFitter: fitted with 4339 subjects, a: 0.00, alpha: 69.22, b: 6.66, r: 0.83>"
            ]
          },
          "metadata": {
            "tags": []
          },
          "execution_count": 17
        }
      ]
    },
    {
      "cell_type": "code",
      "metadata": {
        "id": "dg58l4lLATfI",
        "colab_type": "code",
        "colab": {
          "base_uri": "https://localhost:8080/",
          "height": 172
        },
        "outputId": "cb953691-41b7-4c0b-9561-72cd6c7cb13e"
      },
      "source": [
        "bgf.summary"
      ],
      "execution_count": 20,
      "outputs": [
        {
          "output_type": "execute_result",
          "data": {
            "text/html": [
              "<div>\n",
              "<style scoped>\n",
              "    .dataframe tbody tr th:only-of-type {\n",
              "        vertical-align: middle;\n",
              "    }\n",
              "\n",
              "    .dataframe tbody tr th {\n",
              "        vertical-align: top;\n",
              "    }\n",
              "\n",
              "    .dataframe thead th {\n",
              "        text-align: right;\n",
              "    }\n",
              "</style>\n",
              "<table border=\"1\" class=\"dataframe\">\n",
              "  <thead>\n",
              "    <tr style=\"text-align: right;\">\n",
              "      <th></th>\n",
              "      <th>coef</th>\n",
              "      <th>se(coef)</th>\n",
              "      <th>lower 95% bound</th>\n",
              "      <th>upper 95% bound</th>\n",
              "    </tr>\n",
              "  </thead>\n",
              "  <tbody>\n",
              "    <tr>\n",
              "      <th>r</th>\n",
              "      <td>0.825547</td>\n",
              "      <td>0.026745</td>\n",
              "      <td>0.773126</td>\n",
              "      <td>0.877968</td>\n",
              "    </tr>\n",
              "    <tr>\n",
              "      <th>alpha</th>\n",
              "      <td>69.216946</td>\n",
              "      <td>2.621429</td>\n",
              "      <td>64.078946</td>\n",
              "      <td>74.354946</td>\n",
              "    </tr>\n",
              "    <tr>\n",
              "      <th>a</th>\n",
              "      <td>0.003928</td>\n",
              "      <td>0.010784</td>\n",
              "      <td>-0.017209</td>\n",
              "      <td>0.025065</td>\n",
              "    </tr>\n",
              "    <tr>\n",
              "      <th>b</th>\n",
              "      <td>6.657330</td>\n",
              "      <td>20.824086</td>\n",
              "      <td>-34.157879</td>\n",
              "      <td>47.472538</td>\n",
              "    </tr>\n",
              "  </tbody>\n",
              "</table>\n",
              "</div>"
            ],
            "text/plain": [
              "            coef   se(coef)  lower 95% bound  upper 95% bound\n",
              "r       0.825547   0.026745         0.773126         0.877968\n",
              "alpha  69.216946   2.621429        64.078946        74.354946\n",
              "a       0.003928   0.010784        -0.017209         0.025065\n",
              "b       6.657330  20.824086       -34.157879        47.472538"
            ]
          },
          "metadata": {
            "tags": []
          },
          "execution_count": 20
        }
      ]
    },
    {
      "cell_type": "markdown",
      "metadata": {
        "id": "WVk1r2-2AerF",
        "colab_type": "text"
      },
      "source": [
        "## Analyze Model"
      ]
    },
    {
      "cell_type": "markdown",
      "metadata": {
        "id": "CkTNdxt5EK0s",
        "colab_type": "text"
      },
      "source": [
        "### Assess Model's Fit"
      ]
    },
    {
      "cell_type": "code",
      "metadata": {
        "id": "0HKueJ3wENUx",
        "colab_type": "code",
        "colab": {
          "base_uri": "https://localhost:8080/",
          "height": 332
        },
        "outputId": "027808ce-c8a2-4a1c-f489-150f044d0f55"
      },
      "source": [
        "from lifetimes.plotting import plot_period_transactions\n",
        "\n",
        "plot_period_transactions(bgf, max_frequency=150)"
      ],
      "execution_count": 29,
      "outputs": [
        {
          "output_type": "execute_result",
          "data": {
            "text/plain": [
              "<matplotlib.axes._subplots.AxesSubplot at 0x7fc3bd3cd550>"
            ]
          },
          "metadata": {
            "tags": []
          },
          "execution_count": 29
        },
        {
          "output_type": "display_data",
          "data": {
            "image/png": "[encoded data removed]",
            "text/plain": [
              "<Figure size 432x288 with 1 Axes>"
            ]
          },
          "metadata": {
            "tags": [],
            "needs_background": "light"
          }
        }
      ]
    },
    {
      "cell_type": "code",
      "metadata": {
        "id": "VxyPCyWaJRJ4",
        "colab_type": "code",
        "colab": {
          "base_uri": "https://localhost:8080/",
          "height": 312
        },
        "outputId": "ba750fe5-8531-4db4-9df1-d2b7d05be44a"
      },
      "source": [
        "from lifetimes.plotting import plot_transaction_rate_heterogeneity\n",
        "\n",
        "plot_transaction_rate_heterogeneity(bgf)"
      ],
      "execution_count": 25,
      "outputs": [
        {
          "output_type": "execute_result",
          "data": {
            "text/plain": [
              "<matplotlib.axes._subplots.AxesSubplot at 0x7fc3c59cafd0>"
            ]
          },
          "metadata": {
            "tags": []
          },
          "execution_count": 25
        },
        {
          "output_type": "display_data",
          "data": {
            "image/png": "[encoded data removed]",
            "text/plain": [
              "<Figure size 432x288 with 1 Axes>"
            ]
          },
          "metadata": {
            "tags": [],
            "needs_background": "light"
          }
        }
      ]
    },
    {
      "cell_type": "markdown",
      "metadata": {
        "id": "yf2jod8vAlo5",
        "colab_type": "text"
      },
      "source": [
        "### Recency-Frequency Plot"
      ]
    },
    {
      "cell_type": "code",
      "metadata": {
        "id": "SBgQ2NMNAUVQ",
        "colab_type": "code",
        "colab": {
          "base_uri": "https://localhost:8080/",
          "height": 328
        },
        "outputId": "737ff612-543a-4277-e40f-8e5b279da53d"
      },
      "source": [
        "from lifetimes.plotting import plot_frequency_recency_matrix\n",
        "\n",
        "plot_frequency_recency_matrix(bgf)"
      ],
      "execution_count": 21,
      "outputs": [
        {
          "output_type": "execute_result",
          "data": {
            "text/plain": [
              "<matplotlib.axes._subplots.AxesSubplot at 0x7fc3bc4a90b8>"
            ]
          },
          "metadata": {
            "tags": []
          },
          "execution_count": 21
        },
        {
          "output_type": "display_data",
          "data": {
            "image/png": "[encoded data removed]",
            "text/plain": [
              "<Figure size 432x288 with 2 Axes>"
            ]
          },
          "metadata": {
            "tags": [],
            "needs_background": "light"
          }
        }
      ]
    },
    {
      "cell_type": "markdown",
      "metadata": {
        "id": "q_1pEPP0D46C",
        "colab_type": "text"
      },
      "source": [
        "### 'Still Alive?' plot"
      ]
    },
    {
      "cell_type": "code",
      "metadata": {
        "id": "Gp_6_BQMAqmK",
        "colab_type": "code",
        "colab": {
          "base_uri": "https://localhost:8080/",
          "height": 328
        },
        "outputId": "049496f6-8550-415e-edf6-31de648daa81"
      },
      "source": [
        "from lifetimes.plotting import plot_probability_alive_matrix\n",
        "\n",
        "plot_probability_alive_matrix(bgf)"
      ],
      "execution_count": 22,
      "outputs": [
        {
          "output_type": "execute_result",
          "data": {
            "text/plain": [
              "<matplotlib.axes._subplots.AxesSubplot at 0x7fc3ba035080>"
            ]
          },
          "metadata": {
            "tags": []
          },
          "execution_count": 22
        },
        {
          "output_type": "display_data",
          "data": {
            "image/png": "[encoded data removed]",
            "text/plain": [
              "<Figure size 432x288 with 2 Axes>"
            ]
          },
          "metadata": {
            "tags": [],
            "needs_background": "light"
          }
        }
      ]
    },
    {
      "cell_type": "markdown",
      "metadata": {
        "id": "iH5KkowOEnvr",
        "colab_type": "text"
      },
      "source": [
        "### Rank customer from Best to Worst\n",
        "\n",
        "Model expose a method that predicts a customer's expected purchases in the next period."
      ]
    },
    {
      "cell_type": "code",
      "metadata": {
        "id": "0Y0BgL71D9mf",
        "colab_type": "code",
        "colab": {
          "base_uri": "https://localhost:8080/",
          "height": 417
        },
        "outputId": "890e3853-1e6b-4951-d61b-e909ec5fc59e"
      },
      "source": [
        "t = 1\n",
        "xaction_RFM['predicted_purchase'] = bgf.conditional_expected_number_of_purchases_up_to_time(\n",
        "    t,\n",
        "    xaction_RFM['frequency'], \n",
        "    xaction_RFM['recency'], \n",
        "    xaction_RFM['T']\n",
        ")\n",
        "xaction_RFM.sort_values(by='predicted_purchase').tail(11)"
      ],
      "execution_count": 24,
      "outputs": [
        {
          "output_type": "execute_result",
          "data": {
            "text/html": [
              "<div>\n",
              "<style scoped>\n",
              "    .dataframe tbody tr th:only-of-type {\n",
              "        vertical-align: middle;\n",
              "    }\n",
              "\n",
              "    .dataframe tbody tr th {\n",
              "        vertical-align: top;\n",
              "    }\n",
              "\n",
              "    .dataframe thead th {\n",
              "        text-align: right;\n",
              "    }\n",
              "</style>\n",
              "<table border=\"1\" class=\"dataframe\">\n",
              "  <thead>\n",
              "    <tr style=\"text-align: right;\">\n",
              "      <th></th>\n",
              "      <th>frequency</th>\n",
              "      <th>recency</th>\n",
              "      <th>T</th>\n",
              "      <th>predicted_purchase</th>\n",
              "    </tr>\n",
              "    <tr>\n",
              "      <th>CustomerID</th>\n",
              "      <th></th>\n",
              "      <th></th>\n",
              "      <th></th>\n",
              "      <th></th>\n",
              "    </tr>\n",
              "  </thead>\n",
              "  <tbody>\n",
              "    <tr>\n",
              "      <th>14646</th>\n",
              "      <td>44.0</td>\n",
              "      <td>353.0</td>\n",
              "      <td>355.0</td>\n",
              "      <td>0.105656</td>\n",
              "    </tr>\n",
              "    <tr>\n",
              "      <th>16422</th>\n",
              "      <td>47.0</td>\n",
              "      <td>352.0</td>\n",
              "      <td>370.0</td>\n",
              "      <td>0.108828</td>\n",
              "    </tr>\n",
              "    <tr>\n",
              "      <th>13798</th>\n",
              "      <td>52.0</td>\n",
              "      <td>371.0</td>\n",
              "      <td>373.0</td>\n",
              "      <td>0.119445</td>\n",
              "    </tr>\n",
              "    <tr>\n",
              "      <th>14527</th>\n",
              "      <td>53.0</td>\n",
              "      <td>367.0</td>\n",
              "      <td>370.0</td>\n",
              "      <td>0.122537</td>\n",
              "    </tr>\n",
              "    <tr>\n",
              "      <th>13089</th>\n",
              "      <td>65.0</td>\n",
              "      <td>367.0</td>\n",
              "      <td>370.0</td>\n",
              "      <td>0.149857</td>\n",
              "    </tr>\n",
              "    <tr>\n",
              "      <th>12971</th>\n",
              "      <td>70.0</td>\n",
              "      <td>369.0</td>\n",
              "      <td>373.0</td>\n",
              "      <td>0.160144</td>\n",
              "    </tr>\n",
              "    <tr>\n",
              "      <th>14606</th>\n",
              "      <td>88.0</td>\n",
              "      <td>372.0</td>\n",
              "      <td>374.0</td>\n",
              "      <td>0.200398</td>\n",
              "    </tr>\n",
              "    <tr>\n",
              "      <th>15311</th>\n",
              "      <td>89.0</td>\n",
              "      <td>373.0</td>\n",
              "      <td>374.0</td>\n",
              "      <td>0.202656</td>\n",
              "    </tr>\n",
              "    <tr>\n",
              "      <th>17841</th>\n",
              "      <td>111.0</td>\n",
              "      <td>372.0</td>\n",
              "      <td>374.0</td>\n",
              "      <td>0.252289</td>\n",
              "    </tr>\n",
              "    <tr>\n",
              "      <th>12748</th>\n",
              "      <td>113.0</td>\n",
              "      <td>373.0</td>\n",
              "      <td>374.0</td>\n",
              "      <td>0.256805</td>\n",
              "    </tr>\n",
              "    <tr>\n",
              "      <th>14911</th>\n",
              "      <td>131.0</td>\n",
              "      <td>372.0</td>\n",
              "      <td>374.0</td>\n",
              "      <td>0.297412</td>\n",
              "    </tr>\n",
              "  </tbody>\n",
              "</table>\n",
              "</div>"
            ],
            "text/plain": [
              "            frequency  recency      T  predicted_purchase\n",
              "CustomerID                                               \n",
              "14646            44.0    353.0  355.0            0.105656\n",
              "16422            47.0    352.0  370.0            0.108828\n",
              "13798            52.0    371.0  373.0            0.119445\n",
              "14527            53.0    367.0  370.0            0.122537\n",
              "13089            65.0    367.0  370.0            0.149857\n",
              "12971            70.0    369.0  373.0            0.160144\n",
              "14606            88.0    372.0  374.0            0.200398\n",
              "15311            89.0    373.0  374.0            0.202656\n",
              "17841           111.0    372.0  374.0            0.252289\n",
              "12748           113.0    373.0  374.0            0.256805\n",
              "14911           131.0    372.0  374.0            0.297412"
            ]
          },
          "metadata": {
            "tags": []
          },
          "execution_count": 24
        }
      ]
    },
    {
      "cell_type": "code",
      "metadata": {
        "id": "BUI3lcNMEz1O",
        "colab_type": "code",
        "colab": {}
      },
      "source": [
        ""
      ],
      "execution_count": 0,
      "outputs": []
    }
  ]
}